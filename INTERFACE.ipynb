{
 "cells": [
  {
   "cell_type": "code",
   "execution_count": null,
   "metadata": {},
   "outputs": [],
   "source": [
    "# INTERFACE\n",
    "from module.core.display import playground\n",
    "from module.core.Project import Project\n",
    "\n",
    "# Project('example_project_name') #initiate project \n",
    "\n",
    "playground() # loat interface"
   ]
  },
  {
   "cell_type": "code",
   "execution_count": 1,
   "metadata": {},
   "outputs": [],
   "source": [
    "#INSPECT PROJECT PRAMS\n",
    "from module.core import ExperimentInformation, TreatmentInformation, Palette\n",
    "from module.core.Metadata import ExperimentInformation\n",
    "\n",
    "# TreatmentInformation('TCB-2').open()\n",
    "Palette(\"TCB-2\").open()\n",
    "ExperimentInformation(\"TCB-2\").open()\n"
   ]
  },
  {
   "cell_type": "code",
   "execution_count": null,
   "metadata": {},
   "outputs": [],
   "source": [
    "# TISSUE WEIGHT stats  \n",
    "from module.core.Figure import StatisticsTable, Histogram, QuantitativeDataSelection\n",
    "\n",
    "table = StatisticsTable(project=\"TCB-2\", \n",
    "                          experiment=\"weight\",\n",
    "                          region='TCB2_regions', \n",
    "                          from_scratch=True\n",
    "                          )\n",
    "# table.statistics_table.select(is_significant=True)\n",
    "table"
   ]
  },
  {
   "cell_type": "code",
   "execution_count": null,
   "metadata": {},
   "outputs": [],
   "source": [
    "#TISSUE WEIGHT plot \n",
    "from module.core.Figure import Histogram\n",
    "\n",
    "\n",
    "Histogram(project = 'TCB-2',\n",
    "          experiment = 'weight',\n",
    "          from_scratch = True, \n",
    "          region = 'TCB2_regions')\n",
    "\n"
   ]
  },
  {
   "cell_type": "code",
   "execution_count": null,
   "metadata": {},
   "outputs": [],
   "source": [
    "#NORMALITY and AGGREGATE STATS\n",
    "\n",
    "from module.core.Statistics import AggregateStatistics\n",
    "AggregateStatistics(\"TCB-2\").select()"
   ]
  },
  {
   "cell_type": "code",
   "execution_count": null,
   "metadata": {},
   "outputs": [],
   "source": [
    "#INSPECT COMPOUND DATA and STATS\n",
    "from module.core import  HPLC, Statistics, QuantitativeStatistic\n",
    "from module.core.Constants import * #git issue jas\n",
    "\n",
    "#RAW data\n",
    "# data = HPLC('TCB-2').full_df \n",
    "\n",
    "#FULLY SIGNIFICANT stats\n",
    "data = Statistics('TCB-2')\n",
    "\n",
    "# data.select(region = 'TCB2_regions', compound= 'monoamines', experiment= 'dose_response')\n",
    "data.select(significant_pair=('3mg/kg TCB-2', 'vehicles'), compound=[\"GLU\", \"GABA\", \"ASP\", \"GLY\", \"TAU\"])\n",
    "\n",
    "# CALCULATE SPECIFIC INSIGNIFICANT \n",
    "# calculated_statistic = QuantitativeStatistic.calculate(project=\"TCB-2\", experiment=None, compound=\"weight\")\n",
    "# calculated_statistic.select(test = 'one_way_anova', is_significant = True)\n",
    "\n"
   ]
  },
  {
   "cell_type": "code",
   "execution_count": null,
   "metadata": {},
   "outputs": [],
   "source": [
    "# PLOT HISTOGRAMS\n",
    "high_DA = ['A','NAc', 'VM', 'DM', 'VL', 'DL', 'VTA']\n",
    "low_DA = [\"OF\",\"PL\",\"aCC\",\"M1\",\"SJ\",\"S1L\",\"S1R\",\"AC\",\"V1\",\"dH\",\"vH\",\"MD\",\"VPL\",\"VPR\",\"DLG\",\"HY\",\"SC\",\"SN\",\"DR\",\"MR\",\"CB\"]\n",
    "\n",
    "\n",
    "\n",
    "DA_high_sig = ['A','NAc', ] #                 / agg_antag [\"NAc\", \"VM\", \"DM\", \"VL\", \"DL\"] # none pass 2way\n",
    "DA_low_sig = [\"PL\",\"aCC\",\"S1L\",\"S1R\",\"DLG\",\"HY\",\"SC\",\"DR\"] #    , 'OF'   /   agg_antag [ \"aCC\",  \"MR\", \"S1L\"] #S1L didnt pass 2way\n",
    "DOPAC_DA_sig = [\"PL\",\"aCC\", \"S1L\",\"DM\",\"DLG\",\"CB\"] #                / agg_antag ['DM', 'VTA, 'DLG', 'aCC'] #DLG aCC dont pass 2way\n",
    "toiMT_DA_sig = [\"NAc\",\"VM\",\"DM\",\"VL\",\"DL\"]\n",
    "HVA_DA_sig = ['CB',  'HY', 'SC',  'dH'] #      'S1R', 'aCC',   'DR',          / agg_antag ['VTA']\n",
    "\n",
    "NA_sig= ['aCC','vH', 'NAc','VPL', 'VPR','HY', 'SC', 'SN','VTA'] #VMA/NA in DLG add vH too for summary style / agg_ant [\"aCC\", \"vH\"]\n",
    "VMA_NA_sig = ['DLG']\n",
    "\n",
    "# \"aCC\" # ['5HT', 'DA', \"NA\", 'HVA'] # [\"5HIAA/5HT\", \"5HT/5HTP\", \"DOPAC/DA\"]\n",
    "DA_sig_twoway = [ 'MR',  'aCC', 'A'] \n",
    "DOPAC_DA_sig_twoway = [ 'DM', 'VTA'] #'DM',\n",
    "HVA_DA_sig_twoway = [ 'VTA']\n",
    "\n",
    "\n",
    "\n",
    "from module.core.Figure import Histogram\n",
    "hist = Histogram(project = 'TCB-2', \n",
    "                experiment='agonist_antagonist', # dose_response / agonist_antagonist / None / weight\n",
    "                compound='DA', # 5HIAA/5HT \n",
    "                region= 'TCB2_regions', #list\n",
    "                from_scratch=True, \n",
    "                remove_outliers='calculated', # calculated / eliminated / False\n",
    "                # custom_params={\"fig_width\": 20},  # fixed fig with bar width vaires \n",
    "                # custom_params={\"ylabel_x\": -0.02},\n",
    "                )"
   ]
  },
  {
   "cell_type": "code",
   "execution_count": null,
   "metadata": {},
   "outputs": [],
   "source": [
    "from module.core.Figure import Histogram\n",
    "hist = Histogram(project = 'TCB-2', \n",
    "                experiment='agonist_antagonist', \n",
    "                compound=\"DA\", \n",
    "                region= 'MR', \n",
    "                from_scratch=True, \n",
    "                remove_outliers='calculated', # calculated / eliminated / False\n",
    "                # custom_params={\"ylabel_x\": -0.1}\n",
    "                )\n",
    "\n",
    "\n",
    "\n",
    "# hist.statistic.two_way_anova\n",
    "hist.statistics_table.select(test='tukey').values\n"
   ]
  },
  {
   "cell_type": "code",
   "execution_count": null,
   "metadata": {},
   "outputs": [],
   "source": [
    "# SINGLE CORRECLATION\n",
    "from module.core.Figure import Correlation \n",
    "\n",
    "Correlation(project ='TCB-2', \n",
    "                experiment='agonist_antagonist', \n",
    "                treatment = '3mg/kg TCB-2',\n",
    "                compound='5HT', \n",
    "                region= ['S1L','aCC'], \n",
    "                from_scratch=True, \n",
    "                remove_outliers='calculated', # calculated / eliminated / False\n",
    "                )"
   ]
  },
  {
   "cell_type": "code",
   "execution_count": null,
   "metadata": {},
   "outputs": [],
   "source": [
    "from module.core.Figure import Correlogram \n",
    "\n",
    "\n",
    "Correlogram(project ='TCB-2', \n",
    "                # experiment='agonist_antagonist', \n",
    "                compound='5HT',  # 'monoamines'\n",
    "                region= 'TCB2_regions', \n",
    "                from_scratch=True, \n",
    "                remove_outliers='calculated', # calculated / eliminated / False\n",
    "                )"
   ]
  },
  {
   "cell_type": "code",
   "execution_count": 2,
   "metadata": {},
   "outputs": [],
   "source": [
    "legit_regions = [\n",
    "    \"OF\",\n",
    "    \"PL\",\n",
    "    \"aCC\",\n",
    "    \"M1\",\n",
    "    \"SJ\",\n",
    "    \"S1L\",\n",
    "    \"S1R\",\n",
    "    \"AC\",\n",
    "    \"V1\",\n",
    "    \"MD\",\n",
    "    \"VPL\",\n",
    "    \"VPR\",\n",
    "    \"DLG\",\n",
    "    \"DM\",\n",
    "    \"DL\",\n",
    "    \"VM\",\n",
    "    \"VL\",\n",
    "    \"NAc\",\n",
    "    \"SN\",\n",
    "    \"VTA\",\n",
    "    \"DR\",\n",
    "    \"MR\",\n",
    "    \"HY\",\n",
    "    \"dH\",\n",
    "    \"vH\",\n",
    "    \"A\",\n",
    "    \"SC\",\n",
    "    \"CB\"\n",
    "  ]"
   ]
  },
  {
   "cell_type": "code",
   "execution_count": null,
   "metadata": {},
   "outputs": [],
   "source": [
    "from module.core.Figure import Network , NetworkDegrees\n",
    "from module.core.Constants import * \n",
    "\n",
    "# Network(project ='TCB-2', \n",
    "#                 # experiment='agonist_antagonist', \n",
    "#                 compound='5HT', \n",
    "#                 region= legit_regions, # 'dopamine_vibes' / 'thalamocortical_interaction' / 'TCB2_regions'\n",
    "#                 from_scratch=True, \n",
    "#                 remove_outliers='calculated', # calculated / eliminated / False\n",
    "#                 # custom_params = { 'edge_thickness': 1} , #'show_edge_labels':True,\n",
    "#                 )\n",
    " \n",
    "NetworkDegrees(project ='TCB-2', \n",
    "                # experiment='agonist_antagonist', \n",
    "                compound='NA', \n",
    "                region= legit_regions, # 'dopamine_vibes' / 'thalamocortical_interaction' / 'TCB2_regions'\n",
    "                from_scratch=True, \n",
    "                remove_outliers='calculated', # calculated / eliminated / False\n",
    "                # custom_params = { 'edge_thickness': 1} , #'show_edge_labels':True,\n",
    "                )\n",
    "\n",
    "# print (REGION_CLASSES['thalamocortical_interaction'])"
   ]
  },
  {
   "cell_type": "code",
   "execution_count": null,
   "metadata": {},
   "outputs": [],
   "source": [
    "#TABLES \n",
    "from module.core.Figure import Table, StatisticsTable\n",
    "\n",
    "\n",
    "#DATA TABLE\n",
    "# Table(project ='TCB-2', \n",
    "#                 # experiment='project', \n",
    "#                 compound=['5HT', '5HIAA', 'DA', 'DOPAC', 'HVA', '3MT', 'NA'], #SD\n",
    "#                 treatment = 'vehicles',\n",
    "#                 region= 'TCB2_regions', \n",
    "#                 from_scratch=True, \n",
    "#                 remove_outliers='calculated', # calculated / eliminated / False\n",
    "#                 )\n",
    "\n",
    "#STATISTICS TABLE\n",
    "StatisticsTable(project=\"TCB-2\", \n",
    "                          experiment=\"agonist_antagonist\",\n",
    "                          region='TCB2_regions', \n",
    "                          compound = ['5HT', '5HIAA', 'DA', 'DOPAC', 'HVA', '3MT', 'NA', '3MT/DA', '5HIAA/5HT', 'DOPAC/DA', 'HVA/DA'],\n",
    "                          from_scratch=True, \n",
    "                          remove_outliers = 'calculated'\n",
    "                          )\n",
    "\n",
    "\n"
   ]
  }
 ],
 "metadata": {
  "kernelspec": {
   "display_name": ".venv",
   "language": "python",
   "name": "python3"
  },
  "language_info": {
   "codemirror_mode": {
    "name": "ipython",
    "version": 3
   },
   "file_extension": ".py",
   "mimetype": "text/x-python",
   "name": "python",
   "nbconvert_exporter": "python",
   "pygments_lexer": "ipython3",
   "version": "3.10.13"
  }
 },
 "nbformat": 4,
 "nbformat_minor": 2
}
